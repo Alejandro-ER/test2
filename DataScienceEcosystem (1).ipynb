{
 "cells": [
  {
   "cell_type": "markdown",
   "id": "277a299f-8ff5-416b-bd2b-c2e82c66c75d",
   "metadata": {
    "tags": []
   },
   "source": [
    "# Data Science Tools and Ecosystem"
   ]
  },
  {
   "cell_type": "markdown",
   "id": "0d69e315-b96b-44cc-8b1d-e7d5e2be0a5c",
   "metadata": {},
   "source": [
    "In this notebook, Data Science Tools and Ecosystem are summarized."
   ]
  },
  {
   "cell_type": "markdown",
   "id": "98704861-93b0-4bf2-ac18-03dff3558a5b",
   "metadata": {},
   "source": [
    "**Objectives:**\n",
    "- Data Science Popular langauges\n",
    "- Common libraries used by data scientists\n",
    "- Data Science Tools"
   ]
  },
  {
   "cell_type": "markdown",
   "id": "85b46a98-dd72-4d12-bd85-ba55ffec10d5",
   "metadata": {},
   "source": [
    "Some of the popular languages that Data Scientists use are:\n",
    "1. Python\n",
    "2. R\n",
    "3. SQL"
   ]
  },
  {
   "cell_type": "markdown",
   "id": "d979873f-a744-427f-87ee-874df96e927b",
   "metadata": {},
   "source": [
    "Some of the commonly used libraries used by Data Scientists include:\n",
    "1. Pandas\n",
    "2. Numpy\n",
    "3. Matplotlib"
   ]
  },
  {
   "cell_type": "markdown",
   "id": "b1663037-2e4d-43ab-a778-29de42c92801",
   "metadata": {},
   "source": [
    "| Data Science Tools |\n",
    "| Jupyter Notebooks  |\n",
    "| RStudio            |\n",
    "| IBM Watson Studio or Skills Network Lab |"
   ]
  },
  {
   "cell_type": "markdown",
   "id": "d1d55386-cb2d-43d5-a879-66923c4a13d4",
   "metadata": {},
   "source": [
    "###Below are a few examples of evaluating arithmetic expressions in Python"
   ]
  },
  {
   "cell_type": "code",
   "execution_count": 1,
   "id": "fddb50a9-4ef9-4aa8-92a3-b79667131e9b",
   "metadata": {},
   "outputs": [
    {
     "data": {
      "text/plain": [
       "17"
      ]
     },
     "execution_count": 1,
     "metadata": {},
     "output_type": "execute_result"
    }
   ],
   "source": [
    "#This is a simple arithmetic expression to multiply then add integers\n",
    "(3*4)+5"
   ]
  },
  {
   "cell_type": "code",
   "execution_count": 2,
   "id": "61131aa7-1439-4e35-ae3c-dae5a84ee9a8",
   "metadata": {},
   "outputs": [
    {
     "data": {
      "text/plain": [
       "3.3333333333333335"
      ]
     },
     "execution_count": 2,
     "metadata": {},
     "output_type": "execute_result"
    }
   ],
   "source": [
    "#This will convert 200 minutes to hours by diving by 60\n",
    "200/60"
   ]
  },
  {
   "cell_type": "markdown",
   "id": "e3ccf1df-f649-475a-b296-6a6fb666c5f0",
   "metadata": {},
   "source": [
    "## Author\n",
    "Alejandro Enriquez"
   ]
  },
  {
   "cell_type": "code",
   "execution_count": null,
   "id": "bd371786-fa23-4a2c-98ae-cd4150627a9f",
   "metadata": {},
   "outputs": [],
   "source": []
  }
 ],
 "metadata": {
  "kernelspec": {
   "display_name": "Python",
   "language": "python",
   "name": "conda-env-python-py"
  },
  "language_info": {
   "codemirror_mode": {
    "name": "ipython",
    "version": 3
   },
   "file_extension": ".py",
   "mimetype": "text/x-python",
   "name": "python",
   "nbconvert_exporter": "python",
   "pygments_lexer": "ipython3",
   "version": "3.7.12"
  }
 },
 "nbformat": 4,
 "nbformat_minor": 5
}
